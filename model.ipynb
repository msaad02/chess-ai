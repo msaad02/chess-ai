{
 "cells": [
  {
   "cell_type": "code",
   "execution_count": 1,
   "id": "00027e75",
   "metadata": {},
   "outputs": [],
   "source": [
    "import pandas as pd\n",
    "import os\n",
    "\n",
    "def get_raw_dataset(base_path: str = \"data/parallel\"):\n",
    "    \"\"\"Returns unvectorized data\"\"\"\n",
    "    dfs = []\n",
    "    for file in os.listdir(base_path):\n",
    "        dfs.append(pd.read_parquet(base_path + \"/\" + file))\n",
    "\n",
    "    return pd.concat(dfs)"
   ]
  },
  {
   "cell_type": "code",
   "execution_count": 2,
   "id": "d29e92c7",
   "metadata": {},
   "outputs": [],
   "source": [
    "df = get_raw_dataset(\"data/parallel_vec\")"
   ]
  },
  {
   "cell_type": "code",
   "execution_count": 3,
   "id": "c930a25a",
   "metadata": {},
   "outputs": [],
   "source": [
    "x = df.drop(columns=\"next_move\").to_numpy()\n",
    "y = df[\"next_move\"]"
   ]
  },
  {
   "cell_type": "code",
   "execution_count": 4,
   "id": "889a8b4d",
   "metadata": {},
   "outputs": [],
   "source": [
    "# UCI = Universal Chess Interface. Used for moves, eg. e2e4 (move from e2 to e4)\n",
    "uci_set = set(y.unique())\n",
    "uci_to_id = {uci: idx for idx, uci in enumerate(sorted(uci_set))}\n",
    "id_to_uci = {v: k for k, v in uci_to_id.items()}"
   ]
  },
  {
   "cell_type": "code",
   "execution_count": 5,
   "id": "47ecf452",
   "metadata": {},
   "outputs": [
    {
     "data": {
      "text/plain": [
       "tensor([[0, 0, 0,  ..., 0, 0, 0],\n",
       "        [0, 0, 0,  ..., 0, 0, 0],\n",
       "        [0, 0, 0,  ..., 0, 0, 0],\n",
       "        ...,\n",
       "        [0, 0, 0,  ..., 0, 0, 0],\n",
       "        [0, 0, 0,  ..., 0, 0, 0],\n",
       "        [0, 0, 0,  ..., 0, 0, 0]], dtype=torch.int8)"
      ]
     },
     "execution_count": 5,
     "metadata": {},
     "output_type": "execute_result"
    }
   ],
   "source": [
    "import torch\n",
    "\n",
    "torch.tensor(x)"
   ]
  }
 ],
 "metadata": {
  "kernelspec": {
   "display_name": "chess",
   "language": "python",
   "name": "python3"
  },
  "language_info": {
   "codemirror_mode": {
    "name": "ipython",
    "version": 3
   },
   "file_extension": ".py",
   "mimetype": "text/x-python",
   "name": "python",
   "nbconvert_exporter": "python",
   "pygments_lexer": "ipython3",
   "version": "3.12.0"
  }
 },
 "nbformat": 4,
 "nbformat_minor": 5
}
